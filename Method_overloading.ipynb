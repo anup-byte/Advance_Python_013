{
 "cells": [
  {
   "cell_type": "code",
   "execution_count": 2,
   "metadata": {},
   "outputs": [],
   "source": [
    "class Vehicle:\n",
    "    \n",
    "    def __init__(self,color,maxSpeed):\n",
    "        self.color = color\n",
    "        self.__maxSpeed = maxSpeed\n",
    "        \n",
    "        \n",
    "        \n",
    "    def getMaxSpeed(self):\n",
    "        return self.__maxSpeed\n",
    "    \n",
    "    \n",
    "    def setMaxSpeed(self,maxSpeed):\n",
    "        self.__maxspeed = maxspeed\n",
    "        \n",
    "        \n",
    "    def print(self):\n",
    "        \n",
    "        print(\"Color :\", self.color)\n",
    "        print(\"MaxSpeed :\", self.__maxSpeed)\n",
    "        \n",
    "        \n",
    "class Car(Vehicle):\n",
    "    \n",
    "    def __init__(self, color, maxSpeed, numGears, isConvertible):\n",
    "        \n",
    "        super().__init__(color, maxSpeed)\n",
    "        self.numGears = numGears\n",
    "        self.isConvertible = isConvertible\n",
    "        \n",
    "        \n",
    "    def print(self):\n",
    "        \n",
    "        #self.print()\n",
    "        print(\"NumGears :\", self.numGears)\n",
    "        print(\"IsConvertible :\", self.isConvertible)       "
   ]
  },
  {
   "cell_type": "code",
   "execution_count": 3,
   "metadata": {},
   "outputs": [],
   "source": [
    "        \n",
    "c = Car(\"red\", 15, 3, False)   "
   ]
  },
  {
   "cell_type": "code",
   "execution_count": 4,
   "metadata": {},
   "outputs": [
    {
     "name": "stdout",
     "output_type": "stream",
     "text": [
      "NumGears : 3\n",
      "IsConvertible : False\n"
     ]
    }
   ],
   "source": [
    "c.print()"
   ]
  },
  {
   "cell_type": "code",
   "execution_count": 5,
   "metadata": {},
   "outputs": [],
   "source": [
    "class Vehicle:\n",
    "    \n",
    "    def __init__(self,color,maxSpeed):\n",
    "        self.color = color\n",
    "        self.__maxSpeed = maxSpeed\n",
    "        \n",
    "        \n",
    "        \n",
    "    def getMaxSpeed(self):\n",
    "        return self.__maxSpeed\n",
    "    \n",
    "    \n",
    "    def setMaxSpeed(self,maxSpeed):\n",
    "        self.__maxspeed = maxspeed\n",
    "        \n",
    "        \n",
    "    def print(self):\n",
    "        \n",
    "        print(\"Color :\", self.color)\n",
    "        print(\"MaxSpeed :\", self.__maxSpeed)\n",
    "        \n",
    "        \n",
    "class Car(Vehicle):\n",
    "    \n",
    "    def __init__(self, color, maxSpeed, numGears, isConvertible):\n",
    "        \n",
    "        super().__init__(color, maxSpeed)\n",
    "        self.numGears = numGears\n",
    "        self.isConvertible = isConvertible\n",
    "        \n",
    "        \n",
    "    # def print(self):\n",
    "        \n",
    "    #     self.print()\n",
    "    #     print(\"NumGears :\", self.numGears)\n",
    "    #     print(\"IsConvertible :\", self.isConvertible)       "
   ]
  },
  {
   "cell_type": "code",
   "execution_count": 6,
   "metadata": {},
   "outputs": [],
   "source": [
    "c = Car(\"red\", 15, 3, False)   "
   ]
  },
  {
   "cell_type": "code",
   "execution_count": 7,
   "metadata": {},
   "outputs": [
    {
     "name": "stdout",
     "output_type": "stream",
     "text": [
      "Color : red\n",
      "MaxSpeed : 15\n"
     ]
    }
   ],
   "source": [
    "c.print()"
   ]
  },
  {
   "cell_type": "code",
   "execution_count": 8,
   "metadata": {},
   "outputs": [],
   "source": [
    "class Vehicle:\n",
    "    \n",
    "    def __init__(self,color,maxSpeed):\n",
    "        self.color = color\n",
    "        self.__maxSpeed = maxSpeed\n",
    "        \n",
    "        \n",
    "        \n",
    "    def getMaxSpeed(self):\n",
    "        return self.__maxSpeed\n",
    "    \n",
    "    \n",
    "    def setMaxSpeed(self,maxSpeed):\n",
    "        self.__maxspeed = maxspeed\n",
    "        \n",
    "        \n",
    "    def print(self):\n",
    "        \n",
    "        print(\"Color :\", self.color)\n",
    "        print(\"MaxSpeed :\", self.__maxSpeed)\n",
    "        \n",
    "        \n",
    "class Car(Vehicle):\n",
    "    \n",
    "    def __init__(self, color, maxSpeed, numGears, isConvertible):\n",
    "        \n",
    "        super().__init__(color, maxSpeed)\n",
    "        self.numGears = numGears\n",
    "        self.isConvertible = isConvertible\n",
    "        \n",
    "        \n",
    "    def print(self):\n",
    "        \n",
    "        self.print()\n",
    "        print(\"NumGears :\", self.numGears)\n",
    "        print(\"IsConvertible :\", self.isConvertible)       "
   ]
  },
  {
   "cell_type": "code",
   "execution_count": 9,
   "metadata": {},
   "outputs": [],
   "source": [
    "c = Car(\"red\", 15, 3, False)   "
   ]
  },
  {
   "cell_type": "code",
   "execution_count": 10,
   "metadata": {},
   "outputs": [
    {
     "ename": "RecursionError",
     "evalue": "maximum recursion depth exceeded",
     "output_type": "error",
     "traceback": [
      "\u001b[0;31m---------------------------------------------------------------------------\u001b[0m",
      "\u001b[0;31mRecursionError\u001b[0m                            Traceback (most recent call last)",
      "\u001b[1;32m/Users/anupjha/Desktop/Desk/AI KI PATHSHALA/Python/Advance_Python_013/Method_overloading.ipynb Cell 9\u001b[0m line \u001b[0;36m1\n\u001b[0;32m----> <a href='vscode-notebook-cell:/Users/anupjha/Desktop/Desk/AI%20KI%20PATHSHALA/Python/Advance_Python_013/Method_overloading.ipynb#X13sZmlsZQ%3D%3D?line=0'>1</a>\u001b[0m c\u001b[39m.\u001b[39;49mprint()\n",
      "\u001b[1;32m/Users/anupjha/Desktop/Desk/AI KI PATHSHALA/Python/Advance_Python_013/Method_overloading.ipynb Cell 9\u001b[0m line \u001b[0;36m3\n\u001b[1;32m     <a href='vscode-notebook-cell:/Users/anupjha/Desktop/Desk/AI%20KI%20PATHSHALA/Python/Advance_Python_013/Method_overloading.ipynb#X13sZmlsZQ%3D%3D?line=31'>32</a>\u001b[0m \u001b[39mdef\u001b[39;00m \u001b[39mprint\u001b[39m(\u001b[39mself\u001b[39m):\n\u001b[0;32m---> <a href='vscode-notebook-cell:/Users/anupjha/Desktop/Desk/AI%20KI%20PATHSHALA/Python/Advance_Python_013/Method_overloading.ipynb#X13sZmlsZQ%3D%3D?line=33'>34</a>\u001b[0m     \u001b[39mself\u001b[39;49m\u001b[39m.\u001b[39;49mprint()\n\u001b[1;32m     <a href='vscode-notebook-cell:/Users/anupjha/Desktop/Desk/AI%20KI%20PATHSHALA/Python/Advance_Python_013/Method_overloading.ipynb#X13sZmlsZQ%3D%3D?line=34'>35</a>\u001b[0m     \u001b[39mprint\u001b[39m(\u001b[39m\"\u001b[39m\u001b[39mNumGears :\u001b[39m\u001b[39m\"\u001b[39m, \u001b[39mself\u001b[39m\u001b[39m.\u001b[39mnumGears)\n\u001b[1;32m     <a href='vscode-notebook-cell:/Users/anupjha/Desktop/Desk/AI%20KI%20PATHSHALA/Python/Advance_Python_013/Method_overloading.ipynb#X13sZmlsZQ%3D%3D?line=35'>36</a>\u001b[0m     \u001b[39mprint\u001b[39m(\u001b[39m\"\u001b[39m\u001b[39mIsConvertible :\u001b[39m\u001b[39m\"\u001b[39m, \u001b[39mself\u001b[39m\u001b[39m.\u001b[39misConvertible)\n",
      "\u001b[1;32m/Users/anupjha/Desktop/Desk/AI KI PATHSHALA/Python/Advance_Python_013/Method_overloading.ipynb Cell 9\u001b[0m line \u001b[0;36m3\n\u001b[1;32m     <a href='vscode-notebook-cell:/Users/anupjha/Desktop/Desk/AI%20KI%20PATHSHALA/Python/Advance_Python_013/Method_overloading.ipynb#X13sZmlsZQ%3D%3D?line=31'>32</a>\u001b[0m \u001b[39mdef\u001b[39;00m \u001b[39mprint\u001b[39m(\u001b[39mself\u001b[39m):\n\u001b[0;32m---> <a href='vscode-notebook-cell:/Users/anupjha/Desktop/Desk/AI%20KI%20PATHSHALA/Python/Advance_Python_013/Method_overloading.ipynb#X13sZmlsZQ%3D%3D?line=33'>34</a>\u001b[0m     \u001b[39mself\u001b[39;49m\u001b[39m.\u001b[39;49mprint()\n\u001b[1;32m     <a href='vscode-notebook-cell:/Users/anupjha/Desktop/Desk/AI%20KI%20PATHSHALA/Python/Advance_Python_013/Method_overloading.ipynb#X13sZmlsZQ%3D%3D?line=34'>35</a>\u001b[0m     \u001b[39mprint\u001b[39m(\u001b[39m\"\u001b[39m\u001b[39mNumGears :\u001b[39m\u001b[39m\"\u001b[39m, \u001b[39mself\u001b[39m\u001b[39m.\u001b[39mnumGears)\n\u001b[1;32m     <a href='vscode-notebook-cell:/Users/anupjha/Desktop/Desk/AI%20KI%20PATHSHALA/Python/Advance_Python_013/Method_overloading.ipynb#X13sZmlsZQ%3D%3D?line=35'>36</a>\u001b[0m     \u001b[39mprint\u001b[39m(\u001b[39m\"\u001b[39m\u001b[39mIsConvertible :\u001b[39m\u001b[39m\"\u001b[39m, \u001b[39mself\u001b[39m\u001b[39m.\u001b[39misConvertible)\n",
      "    \u001b[0;31m[... skipping similar frames: Car.print at line 34 (2971 times)]\u001b[0m\n",
      "\u001b[1;32m/Users/anupjha/Desktop/Desk/AI KI PATHSHALA/Python/Advance_Python_013/Method_overloading.ipynb Cell 9\u001b[0m line \u001b[0;36m3\n\u001b[1;32m     <a href='vscode-notebook-cell:/Users/anupjha/Desktop/Desk/AI%20KI%20PATHSHALA/Python/Advance_Python_013/Method_overloading.ipynb#X13sZmlsZQ%3D%3D?line=31'>32</a>\u001b[0m \u001b[39mdef\u001b[39;00m \u001b[39mprint\u001b[39m(\u001b[39mself\u001b[39m):\n\u001b[0;32m---> <a href='vscode-notebook-cell:/Users/anupjha/Desktop/Desk/AI%20KI%20PATHSHALA/Python/Advance_Python_013/Method_overloading.ipynb#X13sZmlsZQ%3D%3D?line=33'>34</a>\u001b[0m     \u001b[39mself\u001b[39;49m\u001b[39m.\u001b[39;49mprint()\n\u001b[1;32m     <a href='vscode-notebook-cell:/Users/anupjha/Desktop/Desk/AI%20KI%20PATHSHALA/Python/Advance_Python_013/Method_overloading.ipynb#X13sZmlsZQ%3D%3D?line=34'>35</a>\u001b[0m     \u001b[39mprint\u001b[39m(\u001b[39m\"\u001b[39m\u001b[39mNumGears :\u001b[39m\u001b[39m\"\u001b[39m, \u001b[39mself\u001b[39m\u001b[39m.\u001b[39mnumGears)\n\u001b[1;32m     <a href='vscode-notebook-cell:/Users/anupjha/Desktop/Desk/AI%20KI%20PATHSHALA/Python/Advance_Python_013/Method_overloading.ipynb#X13sZmlsZQ%3D%3D?line=35'>36</a>\u001b[0m     \u001b[39mprint\u001b[39m(\u001b[39m\"\u001b[39m\u001b[39mIsConvertible :\u001b[39m\u001b[39m\"\u001b[39m, \u001b[39mself\u001b[39m\u001b[39m.\u001b[39misConvertible)\n",
      "\u001b[0;31mRecursionError\u001b[0m: maximum recursion depth exceeded"
     ]
    }
   ],
   "source": [
    "c.print()"
   ]
  },
  {
   "cell_type": "code",
   "execution_count": 14,
   "metadata": {},
   "outputs": [],
   "source": [
    "class Vehicle:\n",
    "    \n",
    "    def __init__(self,color,maxSpeed):\n",
    "        self.color = color\n",
    "        self.__maxSpeed = maxSpeed\n",
    "        \n",
    "        \n",
    "        \n",
    "    def getMaxSpeed(self):\n",
    "        return self.__maxSpeed\n",
    "    \n",
    "    \n",
    "    def setMaxSpeed(self,maxSpeed):\n",
    "        self.__maxspeed = maxspeed\n",
    "        \n",
    "        \n",
    "    def print(self):\n",
    "        \n",
    "        print(\"Color :\", self.color)\n",
    "        print(\"MaxSpeed :\", self.__maxSpeed)\n",
    "        \n",
    "        \n",
    "class Car(Vehicle):\n",
    "    \n",
    "    def __init__(self, color, maxSpeed, numGears, isConvertible):\n",
    "        \n",
    "        super().__init__(color, maxSpeed)\n",
    "        self.numGears = numGears\n",
    "        self.isConvertible = isConvertible\n",
    "        \n",
    "        \n",
    "    def print(self):\n",
    "        \n",
    "        super().print()\n",
    "        print(\"NumGears :\", self.numGears)\n",
    "        print(\"IsConvertible :\", self.isConvertible)       "
   ]
  },
  {
   "cell_type": "code",
   "execution_count": 15,
   "metadata": {},
   "outputs": [],
   "source": [
    "c = Car(\"red\", 15, 3, False)   "
   ]
  },
  {
   "cell_type": "code",
   "execution_count": 16,
   "metadata": {},
   "outputs": [
    {
     "name": "stdout",
     "output_type": "stream",
     "text": [
      "Color : red\n",
      "MaxSpeed : 15\n",
      "NumGears : 3\n",
      "IsConvertible : False\n"
     ]
    }
   ],
   "source": [
    "c.print()"
   ]
  },
  {
   "cell_type": "markdown",
   "metadata": {},
   "source": [
    "In Python Protected members are Just like Public Members and there is no such difference between them.\n",
    "Python Thinks Programmers are Sensible. Please try not to modify Protected Variables and try to access as minimum as Possible. We use '_' in Protected Member just to distinguish between Public and Protected Members."
   ]
  },
  {
   "cell_type": "code",
   "execution_count": 17,
   "metadata": {},
   "outputs": [],
   "source": [
    "class Vehicle:\n",
    "    \n",
    "    def __init__(self,color,maxSpeed):\n",
    "        self.color = color\n",
    "        self._maxSpeed = maxSpeed\n",
    "        \n",
    "        \n",
    "        \n",
    "    def getMaxSpeed(self):\n",
    "        return self._maxSpeed\n",
    "    \n",
    "    \n",
    "    def setMaxSpeed(self,maxSpeed):\n",
    "        self._maxspeed = maxspeed\n",
    "        \n",
    "        \n",
    "    def print(self):\n",
    "        \n",
    "        print(\"Color :\", self.color)\n",
    "        print(\"MaxSpeed :\", self._maxSpeed)\n",
    "        \n",
    "        \n",
    "class Car(Vehicle):\n",
    "    \n",
    "    def __init__(self, color, maxSpeed, numGears, isConvertible):\n",
    "        \n",
    "        super().__init__(color, maxSpeed)\n",
    "        self.numGears = numGears\n",
    "        self.isConvertible = isConvertible\n",
    "        \n",
    "        \n",
    "    def print(self):\n",
    "        \n",
    "        #super().print()\n",
    "        print(\"Color :\", self.color)\n",
    "        print(\"MaxSpeed :\", self._maxSpeed)\n",
    "        print(\"NumGears :\", self.numGears)\n",
    "        print(\"IsConvertible :\", self.isConvertible)       "
   ]
  },
  {
   "cell_type": "code",
   "execution_count": 18,
   "metadata": {},
   "outputs": [],
   "source": [
    "c = Car(\"red\", 15, 3, False)   "
   ]
  },
  {
   "cell_type": "code",
   "execution_count": 19,
   "metadata": {},
   "outputs": [
    {
     "name": "stdout",
     "output_type": "stream",
     "text": [
      "Color : red\n",
      "MaxSpeed : 15\n",
      "NumGears : 3\n",
      "IsConvertible : False\n"
     ]
    }
   ],
   "source": [
    "c.print()"
   ]
  },
  {
   "cell_type": "code",
   "execution_count": 20,
   "metadata": {},
   "outputs": [
    {
     "name": "stdout",
     "output_type": "stream",
     "text": [
      "Color : red\n",
      "MaxSpeed : 18\n"
     ]
    }
   ],
   "source": [
    "v = Vehicle(\"red\", 18)\n",
    "v.print()"
   ]
  },
  {
   "cell_type": "code",
   "execution_count": 22,
   "metadata": {},
   "outputs": [
    {
     "name": "stdout",
     "output_type": "stream",
     "text": [
      "Color : red\n",
      "MaxSpeed : 50\n"
     ]
    }
   ],
   "source": [
    "v._maxSpeed = 50\n",
    "v.print()"
   ]
  },
  {
   "cell_type": "code",
   "execution_count": null,
   "metadata": {},
   "outputs": [],
   "source": []
  },
  {
   "cell_type": "code",
   "execution_count": null,
   "metadata": {},
   "outputs": [],
   "source": []
  },
  {
   "cell_type": "code",
   "execution_count": null,
   "metadata": {},
   "outputs": [],
   "source": []
  },
  {
   "cell_type": "code",
   "execution_count": null,
   "metadata": {},
   "outputs": [],
   "source": []
  },
  {
   "cell_type": "code",
   "execution_count": null,
   "metadata": {},
   "outputs": [],
   "source": []
  },
  {
   "cell_type": "code",
   "execution_count": null,
   "metadata": {},
   "outputs": [],
   "source": []
  },
  {
   "cell_type": "code",
   "execution_count": null,
   "metadata": {},
   "outputs": [],
   "source": []
  },
  {
   "cell_type": "code",
   "execution_count": null,
   "metadata": {},
   "outputs": [],
   "source": []
  },
  {
   "cell_type": "code",
   "execution_count": null,
   "metadata": {},
   "outputs": [],
   "source": []
  },
  {
   "cell_type": "code",
   "execution_count": null,
   "metadata": {},
   "outputs": [],
   "source": []
  }
 ],
 "metadata": {
  "kernelspec": {
   "display_name": "Python 3",
   "language": "python",
   "name": "python3"
  },
  "language_info": {
   "codemirror_mode": {
    "name": "ipython",
    "version": 3
   },
   "file_extension": ".py",
   "mimetype": "text/x-python",
   "name": "python",
   "nbconvert_exporter": "python",
   "pygments_lexer": "ipython3",
   "version": "3.11.3"
  }
 },
 "nbformat": 4,
 "nbformat_minor": 2
}
